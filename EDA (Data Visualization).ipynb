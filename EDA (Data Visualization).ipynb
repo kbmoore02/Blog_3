{
 "cells": [
  {
   "cell_type": "code",
   "execution_count": 1,
   "id": "4c771889",
   "metadata": {},
   "outputs": [],
   "source": [
    "import pandas as pd\n",
    "import numpy as np\n",
    "import matplotlib as mpl\n",
    "import matplotlib.pyplot as plt\n",
    "import seaborn as sns"
   ]
  },
  {
   "cell_type": "code",
   "execution_count": 2,
   "id": "cd1680e1",
   "metadata": {},
   "outputs": [
    {
     "data": {
      "text/html": [
       "<div>\n",
       "<style scoped>\n",
       "    .dataframe tbody tr th:only-of-type {\n",
       "        vertical-align: middle;\n",
       "    }\n",
       "\n",
       "    .dataframe tbody tr th {\n",
       "        vertical-align: top;\n",
       "    }\n",
       "\n",
       "    .dataframe thead th {\n",
       "        text-align: right;\n",
       "    }\n",
       "</style>\n",
       "<table border=\"1\" class=\"dataframe\">\n",
       "  <thead>\n",
       "    <tr style=\"text-align: right;\">\n",
       "      <th></th>\n",
       "      <th>Title</th>\n",
       "      <th>Album</th>\n",
       "      <th>Track Number</th>\n",
       "      <th>Play Count</th>\n",
       "      <th>Duration in Seconds</th>\n",
       "      <th>Peak Chart Position</th>\n",
       "      <th>Weeks on Chart</th>\n",
       "      <th>Single</th>\n",
       "      <th>Music Video</th>\n",
       "      <th>Set List</th>\n",
       "    </tr>\n",
       "  </thead>\n",
       "  <tbody>\n",
       "    <tr>\n",
       "      <th>0</th>\n",
       "      <td>Tim McGraw</td>\n",
       "      <td>Taylor Swift</td>\n",
       "      <td>1</td>\n",
       "      <td>85909025</td>\n",
       "      <td>232.106</td>\n",
       "      <td>40</td>\n",
       "      <td>20</td>\n",
       "      <td>1</td>\n",
       "      <td>1</td>\n",
       "      <td>0</td>\n",
       "    </tr>\n",
       "    <tr>\n",
       "      <th>1</th>\n",
       "      <td>Picture To Burn</td>\n",
       "      <td>Taylor Swift</td>\n",
       "      <td>2</td>\n",
       "      <td>114595018</td>\n",
       "      <td>173.066</td>\n",
       "      <td>28</td>\n",
       "      <td>20</td>\n",
       "      <td>1</td>\n",
       "      <td>1</td>\n",
       "      <td>0</td>\n",
       "    </tr>\n",
       "    <tr>\n",
       "      <th>2</th>\n",
       "      <td>Teardrops On My Guitar</td>\n",
       "      <td>Taylor Swift</td>\n",
       "      <td>3</td>\n",
       "      <td>156881355</td>\n",
       "      <td>203.040</td>\n",
       "      <td>13</td>\n",
       "      <td>48</td>\n",
       "      <td>1</td>\n",
       "      <td>1</td>\n",
       "      <td>0</td>\n",
       "    </tr>\n",
       "    <tr>\n",
       "      <th>3</th>\n",
       "      <td>A Place in this World</td>\n",
       "      <td>Taylor Swift</td>\n",
       "      <td>4</td>\n",
       "      <td>24588352</td>\n",
       "      <td>199.200</td>\n",
       "      <td>0</td>\n",
       "      <td>0</td>\n",
       "      <td>0</td>\n",
       "      <td>0</td>\n",
       "      <td>0</td>\n",
       "    </tr>\n",
       "    <tr>\n",
       "      <th>4</th>\n",
       "      <td>Cold As You</td>\n",
       "      <td>Taylor Swift</td>\n",
       "      <td>5</td>\n",
       "      <td>25614371</td>\n",
       "      <td>239.013</td>\n",
       "      <td>0</td>\n",
       "      <td>0</td>\n",
       "      <td>0</td>\n",
       "      <td>0</td>\n",
       "      <td>0</td>\n",
       "    </tr>\n",
       "    <tr>\n",
       "      <th>...</th>\n",
       "      <td>...</td>\n",
       "      <td>...</td>\n",
       "      <td>...</td>\n",
       "      <td>...</td>\n",
       "      <td>...</td>\n",
       "      <td>...</td>\n",
       "      <td>...</td>\n",
       "      <td>...</td>\n",
       "      <td>...</td>\n",
       "      <td>...</td>\n",
       "    </tr>\n",
       "    <tr>\n",
       "      <th>195</th>\n",
       "      <td>Dear Reader</td>\n",
       "      <td>Midnights</td>\n",
       "      <td>20</td>\n",
       "      <td>63761917</td>\n",
       "      <td>225.194</td>\n",
       "      <td>45</td>\n",
       "      <td>2</td>\n",
       "      <td>0</td>\n",
       "      <td>0</td>\n",
       "      <td>0</td>\n",
       "    </tr>\n",
       "    <tr>\n",
       "      <th>196</th>\n",
       "      <td>Eyes Open</td>\n",
       "      <td>Single</td>\n",
       "      <td>1</td>\n",
       "      <td>46390604</td>\n",
       "      <td>244.586</td>\n",
       "      <td>19</td>\n",
       "      <td>13</td>\n",
       "      <td>1</td>\n",
       "      <td>0</td>\n",
       "      <td>0</td>\n",
       "    </tr>\n",
       "    <tr>\n",
       "      <th>197</th>\n",
       "      <td>Highway Don't Care</td>\n",
       "      <td>Single</td>\n",
       "      <td>1</td>\n",
       "      <td>185177965</td>\n",
       "      <td>276.880</td>\n",
       "      <td>22</td>\n",
       "      <td>20</td>\n",
       "      <td>1</td>\n",
       "      <td>1</td>\n",
       "      <td>0</td>\n",
       "    </tr>\n",
       "    <tr>\n",
       "      <th>198</th>\n",
       "      <td>I Don’t Wanna Live Forever</td>\n",
       "      <td>Single</td>\n",
       "      <td>1</td>\n",
       "      <td>1363948086</td>\n",
       "      <td>247.160</td>\n",
       "      <td>0</td>\n",
       "      <td>0</td>\n",
       "      <td>0</td>\n",
       "      <td>0</td>\n",
       "      <td>0</td>\n",
       "    </tr>\n",
       "    <tr>\n",
       "      <th>199</th>\n",
       "      <td>Christmas Tree Farm</td>\n",
       "      <td>Single</td>\n",
       "      <td>1</td>\n",
       "      <td>116072690</td>\n",
       "      <td>228.026</td>\n",
       "      <td>59</td>\n",
       "      <td>6</td>\n",
       "      <td>1</td>\n",
       "      <td>1</td>\n",
       "      <td>0</td>\n",
       "    </tr>\n",
       "  </tbody>\n",
       "</table>\n",
       "<p>200 rows × 10 columns</p>\n",
       "</div>"
      ],
      "text/plain": [
       "                          Title         Album  Track Number  Play Count  \\\n",
       "0                    Tim McGraw  Taylor Swift             1    85909025   \n",
       "1               Picture To Burn  Taylor Swift             2   114595018   \n",
       "2        Teardrops On My Guitar  Taylor Swift             3   156881355   \n",
       "3         A Place in this World  Taylor Swift             4    24588352   \n",
       "4                   Cold As You  Taylor Swift             5    25614371   \n",
       "..                          ...           ...           ...         ...   \n",
       "195                 Dear Reader     Midnights            20    63761917   \n",
       "196                   Eyes Open        Single             1    46390604   \n",
       "197          Highway Don't Care        Single             1   185177965   \n",
       "198  I Don’t Wanna Live Forever        Single             1  1363948086   \n",
       "199         Christmas Tree Farm        Single             1   116072690   \n",
       "\n",
       "     Duration in Seconds  Peak Chart Position  Weeks on Chart  Single  \\\n",
       "0                232.106                   40              20       1   \n",
       "1                173.066                   28              20       1   \n",
       "2                203.040                   13              48       1   \n",
       "3                199.200                    0               0       0   \n",
       "4                239.013                    0               0       0   \n",
       "..                   ...                  ...             ...     ...   \n",
       "195              225.194                   45               2       0   \n",
       "196              244.586                   19              13       1   \n",
       "197              276.880                   22              20       1   \n",
       "198              247.160                    0               0       0   \n",
       "199              228.026                   59               6       1   \n",
       "\n",
       "     Music Video  Set List  \n",
       "0              1         0  \n",
       "1              1         0  \n",
       "2              1         0  \n",
       "3              0         0  \n",
       "4              0         0  \n",
       "..           ...       ...  \n",
       "195            0         0  \n",
       "196            0         0  \n",
       "197            1         0  \n",
       "198            0         0  \n",
       "199            1         0  \n",
       "\n",
       "[200 rows x 10 columns]"
      ]
     },
     "execution_count": 2,
     "metadata": {},
     "output_type": "execute_result"
    }
   ],
   "source": [
    "# Read in Data\n",
    "\n",
    "data = pd.read_table('TaylorSwiftSongs.csv', delimiter=',')\n",
    "data = data.drop('Unnamed: 0', axis=1)\n",
    "data.loc[data['Album']=='The Taylor Swift Holiday Collection','Album'] = 'Holiday Collection'\n",
    "data"
   ]
  },
  {
   "cell_type": "code",
   "execution_count": null,
   "id": "74277b11",
   "metadata": {},
   "outputs": [],
   "source": [
    "# Play Count by Track Number\n",
    "\n",
    "track_avg = list(data.groupby('Track Number')['Play Count'].mean())\n",
    "track = range(1,30)\n",
    "ax = sns.lineplot(x=track, y=track_avg)\n",
    "plt.xlabel('Track Number')\n",
    "plt.ylabel('Play Count')\n",
    "plt.title('Average Play Count by Track Number')\n",
    "ax.grid(visible=True, which='major', color='black', linewidth=0.075);\n",
    "#plt.savefig(\"C:\\\\Users\\\\kelse\\\\Dropbox\\\\6- Winter 2023\\\\Stat 386\\\\my386blog\\\\assets\\\\images\\\\blog3b\\\\track-number.jpg\")"
   ]
  },
  {
   "cell_type": "code",
   "execution_count": null,
   "id": "ebbcf380",
   "metadata": {},
   "outputs": [],
   "source": [
    "# Play Count by Album\n",
    "\n",
    "album=(data['Album'].drop_duplicates()[0:11])\n",
    "album_avg = data.groupby('Album', sort=False)['Play Count'].mean()[0:11]\n",
    "\n",
    "ax = plt.gca()\n",
    "ax.xaxis.set_tick_params(labelbottom=False)\n",
    "plot = sns.scatterplot(x=list(album), y=list(album_avg), hue=list(album), palette='tab10', s=150)\n",
    "plt.xlabel('Album')\n",
    "plt.ylabel('Play Count')\n",
    "plt.title('Play Count by Album')\n",
    "plt.setp(plot.get_legend().get_texts(), fontsize='5')\n",
    "plot.grid(visible=True, which='major', color='black', linewidth=0.075);\n",
    "#plt.savefig(\"C:\\\\Users\\\\kelse\\\\Dropbox\\\\6- Winter 2023\\\\Stat 386\\\\my386blog\\\\assets\\\\images\\\\blog3b\\\\album-count-1.jpg\")"
   ]
  },
  {
   "cell_type": "code",
   "execution_count": null,
   "id": "49ad88d4",
   "metadata": {},
   "outputs": [],
   "source": [
    "# Play Count by Album by Year\n",
    "\n",
    "years = [5988/365,5633/365,5239/365,4526/365,3798/365,3063/365,1936/365,1302/365,966/365,826/365,147/365]\n",
    "album_avg_1 = album_avg[0:11]\n",
    "plays = album_avg_1/years\n",
    "album=(data['Album'].drop_duplicates()[0:11])\n",
    "\n",
    "ax = plt.gca()\n",
    "ax.xaxis.set_tick_params(labelbottom=False)\n",
    "plot = sns.scatterplot(x=list(album), y=list(plays), hue=list(album), palette='tab10', s=150)\n",
    "plt.xlabel('Album')\n",
    "plt.ylabel('Play Count')\n",
    "plt.title('Play Count Standardized by Years Since Release')\n",
    "plot.grid(visible=True, which='major', color='black', linewidth=0.075);\n",
    "#plt.savefig(\"C:\\\\Users\\\\kelse\\\\Dropbox\\\\6- Winter 2023\\\\Stat 386\\\\my386blog\\\\assets\\\\images\\\\blog3b\\\\album-count-2.jpg\")"
   ]
  },
  {
   "cell_type": "code",
   "execution_count": null,
   "id": "88b3aab6",
   "metadata": {},
   "outputs": [],
   "source": [
    "# Play Count by Album by Year Except for Midnights\n",
    "\n",
    "years = [5988/365,5633/365,5239/365,4526/365,3798/365,3063/365,1936/365,1302/365,966/365,826/365]\n",
    "album_avg_1 = album_avg[0:10]\n",
    "plays = album_avg_1/years\n",
    "album=(data['Album'].drop_duplicates()[0:10])\n",
    "\n",
    "ax = plt.gca()\n",
    "ax.xaxis.set_tick_params(labelbottom=False)\n",
    "plot = sns.scatterplot(x=list(album), y=list(plays), hue=list(album), palette='tab10', s=150)\n",
    "plt.xlabel('Album')\n",
    "plt.ylabel('Play Count')\n",
    "plt.title('Play Count Standardized by Years Since Release')\n",
    "plot.grid(visible=True, which='major', color='black', linewidth=0.075);\n",
    "#plt.savefig(\"C:\\\\Users\\\\kelse\\\\Dropbox\\\\6- Winter 2023\\\\Stat 386\\\\my386blog\\\\assets\\\\images\\\\blog3b\\\\album-count-3.jpg\")"
   ]
  },
  {
   "cell_type": "code",
   "execution_count": null,
   "id": "522b5934",
   "metadata": {},
   "outputs": [],
   "source": [
    "# Play Count v Peak Chart Position\n",
    "\n",
    "chart = ['On Chart']*len(data)\n",
    "for i in range(len(data)):\n",
    "    if (data.loc[i,'Peak Chart Position']==0):\n",
    "        chart[i] = 'Not on Chart'\n",
    "\n",
    "sns.scatterplot(x=data['Play Count'], y=data['Peak Chart Position'], hue=chart, palette='Pastel1')\n",
    "plt.xlabel('Play Count')\n",
    "plt.ylabel('Peak Chart Position')\n",
    "plt.ylim(max(data['Peak Chart Position'])+5,-5)\n",
    "plt.title('Compare Popularity Measures');\n",
    "#plt.savefig(\"C:\\\\Users\\\\kelse\\\\Dropbox\\\\6- Winter 2023\\\\Stat 386\\\\my386blog\\\\assets\\\\images\\\\blog3b\\\\compare-popularity-1.jpg\")"
   ]
  },
  {
   "cell_type": "code",
   "execution_count": null,
   "id": "45ce0877",
   "metadata": {},
   "outputs": [],
   "source": [
    "# Play Count v Weeks on Chart\n",
    "\n",
    "chart = ['On Chart']*len(data)\n",
    "for i in range(len(data)):\n",
    "    if (data.loc[i,'Weeks on Chart']==0):\n",
    "        chart[i] = 'Not on Chart'\n",
    "\n",
    "sns.scatterplot(x=data['Play Count'], y=data['Weeks on Chart'], hue=chart, palette='Pastel1')\n",
    "plt.xlabel('Play Count')\n",
    "plt.ylabel('Weeks on Chart')\n",
    "plt.title('Compare Popularity Measures');\n",
    "#plt.savefig(\"C:\\\\Users\\\\kelse\\\\Dropbox\\\\6- Winter 2023\\\\Stat 386\\\\my386blog\\\\assets\\\\images\\\\blog3b\\\\compare-popularity-2.jpg\")"
   ]
  },
  {
   "cell_type": "code",
   "execution_count": null,
   "id": "4755f9d5",
   "metadata": {},
   "outputs": [],
   "source": [
    "# Sorted by Play Count\n",
    "\n",
    "data_play = data[data['Album']!='The Taylor Swift Holiday Collection']\n",
    "data_play.sort_values('Play Count', axis=0).tail(15).iloc[::-1]"
   ]
  },
  {
   "cell_type": "code",
   "execution_count": null,
   "id": "9346d519",
   "metadata": {},
   "outputs": [],
   "source": [
    "# Play Count by Duration in Seconds\n",
    "\n",
    "plt.scatter(data['Duration in Seconds'], data['Play Count'])\n",
    "plt.xlabel('Duration in Seconds')\n",
    "plt.ylabel('Play Count')\n",
    "plt.title('Play Count by Duration in Seconds');\n",
    "#plt.savefig(\"C:\\\\Users\\\\kelse\\\\Dropbox\\\\6- Winter 2023\\\\Stat 386\\\\my386blog\\\\assets\\\\images\\\\blog3b\\\\duration-v-play.jpg\")"
   ]
  },
  {
   "cell_type": "code",
   "execution_count": null,
   "id": "9182447a",
   "metadata": {},
   "outputs": [],
   "source": [
    "# Singles vs Music Videos\n",
    "\n",
    "sns.stripplot(x='Single',y='Music Video',data=data, palette='Pastel1')\n",
    "plt.title('Single vs Music Video');\n",
    "#plt.savefig(\"C:\\\\Users\\\\kelse\\\\Dropbox\\\\6- Winter 2023\\\\Stat 386\\\\my386blog\\\\assets\\\\images\\\\blog3b\\\\single-v-video.jpg\")"
   ]
  },
  {
   "cell_type": "code",
   "execution_count": null,
   "id": "ba40fd04",
   "metadata": {},
   "outputs": [],
   "source": [
    "# Play Count v Single\n",
    "\n",
    "sns.boxplot(x=data['Single'],y=data['Play Count'], palette='Blues')\n",
    "plt.title('Play Count by Single');\n",
    "#plt.savefig(\"C:\\\\Users\\\\kelse\\\\Dropbox\\\\6- Winter 2023\\\\Stat 386\\\\my386blog\\\\assets\\\\images\\\\blog3b\\\\single-play.jpg\")"
   ]
  },
  {
   "cell_type": "code",
   "execution_count": null,
   "id": "1198bd04",
   "metadata": {},
   "outputs": [],
   "source": [
    "# Play Count v Music Video\n",
    "\n",
    "sns.boxplot(x=data['Music Video'],y=data['Play Count'], palette='Blues')\n",
    "plt.title('Play Count by Music Video');\n",
    "#plt.savefig(\"C:\\\\Users\\\\kelse\\\\Dropbox\\\\6- Winter 2023\\\\Stat 386\\\\my386blog\\\\assets\\\\images\\\\blog3b\\\\video-play.jpg\")"
   ]
  },
  {
   "cell_type": "code",
   "execution_count": null,
   "id": "bd3c32c5",
   "metadata": {},
   "outputs": [],
   "source": [
    "# Singles v Track Number\n",
    "\n",
    "track_avg = list(data.groupby('Track Number')['Single'].mean())\n",
    "track = range(1,30)\n",
    "ax = sns.lineplot(x=track, y=track_avg)\n",
    "plt.xlabel('Track Number')\n",
    "plt.ylabel('Singles')\n",
    "plt.title('Percent Singles by Track Number')\n",
    "ax.grid(visible=True, which='major', color='black', linewidth=0.075);\n",
    "#plt.savefig(\"C:\\\\Users\\\\kelse\\\\Dropbox\\\\6- Winter 2023\\\\Stat 386\\\\my386blog\\\\assets\\\\images\\\\blog3b\\\\single-track.jpg\")"
   ]
  },
  {
   "cell_type": "code",
   "execution_count": null,
   "id": "7467f2ce",
   "metadata": {},
   "outputs": [],
   "source": [
    "# Music Videos v Track Number\n",
    "\n",
    "track_avg = list(data.groupby('Track Number')['Music Video'].mean())\n",
    "track = range(1,30)\n",
    "ax = sns.lineplot(x=track, y=track_avg)\n",
    "plt.xlabel('Track Number')\n",
    "plt.ylabel('Music Videos')\n",
    "plt.title('Percent Music Videos by Track Number')\n",
    "ax.grid(visible=True, which='major', color='black', linewidth=0.075);\n",
    "#plt.savefig(\"C:\\\\Users\\\\kelse\\\\Dropbox\\\\6- Winter 2023\\\\Stat 386\\\\my386blog\\\\assets\\\\images\\\\blog3b\\\\single-video.jpg\")"
   ]
  },
  {
   "cell_type": "code",
   "execution_count": null,
   "id": "9530e1ce",
   "metadata": {},
   "outputs": [],
   "source": [
    "# Track Number v Peak Chart Position\n",
    "\n",
    "y = list(data.groupby('Track Number').mean()['Peak Chart Position'])\n",
    "plot = sns.scatterplot(x=range(1,30), y=y, palette='tab10', s=100)\n",
    "plt.xlabel('Track Number')\n",
    "plt.ylabel('Peak Chart Position')\n",
    "plt.ylim(max(y)+5, 0)\n",
    "plt.title('Average Peak Chart Position by Track Number')\n",
    "plot.grid(visible=True, which='major', color='black', linewidth=0.075);\n",
    "#plt.savefig(\"C:\\\\Users\\\\kelse\\\\Dropbox\\\\6- Winter 2023\\\\Stat 386\\\\my386blog\\\\assets\\\\images\\\\blog3b\\\\track-peak.jpg\")"
   ]
  },
  {
   "cell_type": "code",
   "execution_count": null,
   "id": "7381a656",
   "metadata": {},
   "outputs": [],
   "source": [
    "# Track Number v Weeks on Chart\n",
    "\n",
    "y = list(data.groupby('Track Number').mean()['Weeks on Chart'])\n",
    "plot = sns.scatterplot(x=range(1,30), y=y, palette='tab10', s=100)\n",
    "plt.xlabel('Track Number')\n",
    "plt.ylabel('Weeks on Chart')\n",
    "plt.title('Average weeks on Chart by Track Number')\n",
    "plot.grid(visible=True, which='major', color='black', linewidth=0.075);\n",
    "#plt.savefig(\"C:\\\\Users\\\\kelse\\\\Dropbox\\\\6- Winter 2023\\\\Stat 386\\\\my386blog\\\\assets\\\\images\\\\blog3b\\\\track-weeks.jpg\")"
   ]
  },
  {
   "cell_type": "code",
   "execution_count": null,
   "id": "a12f8bba",
   "metadata": {},
   "outputs": [],
   "source": [
    "# Singles vs Set List\n",
    "\n",
    "sns.stripplot(x='Single',y='Set List',data=data, palette='Pastel1')\n",
    "plt.title('Single vs Set List');\n",
    "#plt.savefig(\"C:\\\\Users\\\\kelse\\\\Dropbox\\\\6- Winter 2023\\\\Stat 386\\\\my386blog\\\\assets\\\\images\\\\blog3b\\\\single-v-set.jpg\")"
   ]
  },
  {
   "cell_type": "code",
   "execution_count": null,
   "id": "1c749515",
   "metadata": {},
   "outputs": [],
   "source": [
    "# Music Video vs Set List\n",
    "\n",
    "sns.stripplot(x='Music Video',y='Set List',data=data, palette='Pastel1')\n",
    "plt.title('Music Video vs Set List');\n",
    "#plt.savefig(\"C:\\\\Users\\\\kelse\\\\Dropbox\\\\6- Winter 2023\\\\Stat 386\\\\my386blog\\\\assets\\\\images\\\\blog3b\\\\video-v-set.jpg\")"
   ]
  },
  {
   "cell_type": "code",
   "execution_count": null,
   "id": "08f9b970",
   "metadata": {},
   "outputs": [],
   "source": [
    "# Track Number v Set List\n",
    "\n",
    "sns.boxplot(x=data['Set List'],y=data['Track Number'], palette='Blues')\n",
    "plt.title('Track Number by Set List');\n",
    "#pl.savefig(\"C:\\\\Users\\\\kelse\\\\Dropbox\\\\6- Winter 2023\\\\Stat 386\\\\my386blog\\\\assets\\\\images\\\\blog3b\\\\track-set.jpg\")"
   ]
  },
  {
   "cell_type": "code",
   "execution_count": null,
   "id": "4d98112e",
   "metadata": {},
   "outputs": [],
   "source": [
    "# Play Count v Set List\n",
    "\n",
    "sns.boxplot(x=data['Set List'],y=data['Play Count'], palette='Blues')\n",
    "plt.title('Play Count by Set List');\n",
    "#plt.savefig(\"C:\\\\Users\\\\kelse\\\\Dropbox\\\\6- Winter 2023\\\\Stat 386\\\\my386blog\\\\assets\\\\images\\\\blog3b\\\\play-set.jpg\")"
   ]
  },
  {
   "cell_type": "code",
   "execution_count": null,
   "id": "04cb18fe",
   "metadata": {},
   "outputs": [],
   "source": [
    "# Peak Chart Position v Set List\n",
    "\n",
    "sns.boxplot(x=data['Set List'],y=data['Peak Chart Position'], palette='Blues')\n",
    "plt.title('Peak Chart Position by Set List');\n",
    "#plt.savefig(\"C:\\\\Users\\\\kelse\\\\Dropbox\\\\6- Winter 2023\\\\Stat 386\\\\my386blog\\\\assets\\\\images\\\\blog3b\\\\peak-set.jpg\")"
   ]
  },
  {
   "cell_type": "code",
   "execution_count": null,
   "id": "d95ccf3d",
   "metadata": {},
   "outputs": [],
   "source": [
    "# Weeks on Chart v Set List\n",
    "\n",
    "sns.boxplot(x=data['Set List'],y=data['Weeks on Chart'], palette='Blues')\n",
    "plt.title('Weeks on Chart by Set List');\n",
    "plt.savefig(\"C:\\\\Users\\\\kelse\\\\Dropbox\\\\6- Winter 2023\\\\Stat 386\\\\my386blog\\\\assets\\\\images\\\\blog3b\\\\weeks-set.jpg\")"
   ]
  },
  {
   "cell_type": "code",
   "execution_count": null,
   "id": "c6a09a7c",
   "metadata": {},
   "outputs": [],
   "source": []
  },
  {
   "cell_type": "code",
   "execution_count": 45,
   "id": "5924703f",
   "metadata": {},
   "outputs": [],
   "source": [
    "favs = [\"Should've Said No\",'Our Song','Forever & Always','You Belong With Me','Enchanted','Dear John','Holy Ground','All Too Well','All You Had To Do Was Stay','I Wish You Would',\"This Is Why We Can't Have Nice Things\",'Don\\u2019t Blame Me','Death By A Thousand Cuts','Cruel Summer','this is me trying','mirrorball','happiness','champagne problems',\"You're on your own, kid\",'Labyrinth']"
   ]
  },
  {
   "cell_type": "code",
   "execution_count": 46,
   "id": "afe50a1c",
   "metadata": {},
   "outputs": [],
   "source": [
    "data['My Favorites'] = [0]*len(data)"
   ]
  },
  {
   "cell_type": "code",
   "execution_count": 47,
   "id": "7f5f348f",
   "metadata": {},
   "outputs": [],
   "source": [
    "for i in range(len(data)):\n",
    "    if (data.iloc[i,0].upper() in str(favs).upper()):\n",
    "        data.iloc[i,10] = 1"
   ]
  },
  {
   "cell_type": "code",
   "execution_count": 49,
   "id": "40ad05b0",
   "metadata": {},
   "outputs": [
    {
     "data": {
      "image/png": "[encoded data removed]",
      "text/plain": [
       "<Figure size 640x480 with 1 Axes>"
      ]
     },
     "metadata": {},
     "output_type": "display_data"
    }
   ],
   "source": [
    "sns.boxplot(x=data['My Favorites'],y=data['Play Count'], palette='Blues')\n",
    "plt.title('Play Count for My Favorites');"
   ]
  },
  {
   "cell_type": "code",
   "execution_count": 50,
   "id": "12599b87",
   "metadata": {},
   "outputs": [
    {
     "data": {
      "image/png": "[encoded data removed]",
      "text/plain": [
       "<Figure size 640x480 with 1 Axes>"
      ]
     },
     "metadata": {},
     "output_type": "display_data"
    }
   ],
   "source": [
    "sns.stripplot(x='My Favorites',y='Set List',data=data, palette='Pastel1')\n",
    "plt.title('My Favorites vs Set List');"
   ]
  }
 ],
 "metadata": {
  "kernelspec": {
   "display_name": "Python 3 (ipykernel)",
   "language": "python",
   "name": "python3"
  },
  "language_info": {
   "codemirror_mode": {
    "name": "ipython",
    "version": 3
   },
   "file_extension": ".py",
   "mimetype": "text/x-python",
   "name": "python",
   "nbconvert_exporter": "python",
   "pygments_lexer": "ipython3",
   "version": "3.9.13"
  }
 },
 "nbformat": 4,
 "nbformat_minor": 5
}
