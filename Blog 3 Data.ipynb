{
 "cells": [
  {
   "cell_type": "code",
   "execution_count": 1,
   "id": "50acb5a6",
   "metadata": {},
   "outputs": [],
   "source": [
    "import requests as rq\n",
    "import pandas as pd\n",
    "import re\n",
    "import numpy as np\n",
    "from bs4 import BeautifulSoup as bs"
   ]
  },
  {
   "cell_type": "code",
   "execution_count": 2,
   "id": "4701a6a7",
   "metadata": {},
   "outputs": [],
   "source": [
    "apikey = \"aopBL0uXOuKPeqdXonnZJ13o9XHaTyBS\""
   ]
  },
  {
   "cell_type": "code",
   "execution_count": 3,
   "id": "640ae270",
   "metadata": {},
   "outputs": [],
   "source": [
    "payload = {}\n",
    "headers = {'apikey': apikey}\n",
    "\n",
    "base_url = \"https://api.apilayer.com/spotify/\"\n",
    "endpoint_url = \"album_tracks\"\n",
    "album_url = \"album_metadata\""
   ]
  },
  {
   "cell_type": "code",
   "execution_count": 4,
   "id": "cf64c78c",
   "metadata": {},
   "outputs": [],
   "source": [
    "songs = pd.DataFrame(columns=['Title','Album','Track Number','Play Count','Duration in Seconds'])"
   ]
  },
  {
   "cell_type": "code",
   "execution_count": 5,
   "id": "3f58cd55",
   "metadata": {},
   "outputs": [],
   "source": [
    "ids = ['7mzrIsaAjnXihW3InKjlC3','7vzYp7FrKnTRoktBYsx9SF','2dqn5yOQWdyGwOpOIi9O4x','4hDok0OAJd57SGIT8xuWJH',\n",
    "       '5EpMjweRD573ASl7uNiHym','1KlU96Hw9nlvqpBPlSqcTV','6kZ42qRrzov54LcAk4onW9','34OkZVpuzBa9y40DCy0LPR',\n",
    "       '6DEjYFkNZh67HP7R9PSZvv','1NAmidJlEaVgA3MpcPFYGq','1pzvBxYgT6OVwJLtHkrdQK','6AORtDjduMM3bupSWzbTSG',\n",
    "       '3lS1y25WAhcqJDATJK70Mq']"
   ]
  },
  {
   "cell_type": "code",
   "execution_count": 6,
   "id": "2faf1711",
   "metadata": {},
   "outputs": [],
   "source": [
    "for j in range(len(ids)):\n",
    "    params = {'id': ids[j]}\n",
    "    r = rq.get(base_url + endpoint_url, params=params, headers=headers, data=payload)\n",
    "    data = pd.DataFrame(r.json())\n",
    "    data = data[\"data\"].apply(pd.Series)\n",
    "    data = data[\"tracks\"].apply(pd.Series)\n",
    "    data = data[\"items\"].apply(pd.Series)\n",
    "    table = pd.DataFrame(columns=['Title','Album','Track Number','Play Count','Duration in Seconds'])\n",
    "    for i in range(data.shape[1]):\n",
    "        track = data.iloc[0,i]\n",
    "        table.loc[i,'Title'] = track['track']['name']\n",
    "        table.loc[i,'Track Number'] = track['track']['trackNumber']\n",
    "        table.loc[i,'Play Count'] = track['track']['playcount']\n",
    "        table.loc[i,'Duration in Seconds'] = track['track']['duration']['totalMilliseconds']/1000\n",
    "    ra = rq.get(base_url + album_url, params=params, headers=headers, data=payload)\n",
    "    data = pd.DataFrame(ra.json())\n",
    "    table['Album'] = data['data']['album']['name']\n",
    "    songs = pd.concat([songs,table])"
   ]
  },
  {
   "cell_type": "code",
   "execution_count": 7,
   "id": "8c8964c5",
   "metadata": {},
   "outputs": [],
   "source": [
    "sids = ['45nqVXRAW0xv0wpU9JljPN','1O3BsjGx9plSOJ036ZY4Fl','1MPAXuTVL2Ej5x0JHiSPq8', '5JnnrTE35MQagEnEkFthiF']\n",
    "num = [13, 10, 9, 0]"
   ]
  },
  {
   "cell_type": "code",
   "execution_count": 8,
   "id": "bb8f3205",
   "metadata": {},
   "outputs": [],
   "source": [
    "for j in range(len(sids)):\n",
    "    params = {'id': sids[j]}\n",
    "    r = rq.get(base_url + endpoint_url, params=params, headers=headers, data=payload)\n",
    "    data = pd.DataFrame(r.json())\n",
    "    data = data[\"data\"].apply(pd.Series)\n",
    "    data = data[\"tracks\"].apply(pd.Series)\n",
    "    data = data[\"items\"].apply(pd.Series)\n",
    "    table = pd.DataFrame(columns=['Title','Album','Track Number','Play Count','Duration in Seconds'])\n",
    "    track = data.iloc[0,num[j]]\n",
    "    table.loc[i,'Title'] = track['track']['name']\n",
    "    table.loc[i,'Track Number'] = 1\n",
    "    table.loc[i,'Play Count'] = track['track']['playcount']\n",
    "    table.loc[i,'Duration in Seconds'] = track['track']['duration']['totalMilliseconds']/1000\n",
    "    table['Album'] = 'Single'\n",
    "    songs = pd.concat([songs,table])"
   ]
  },
  {
   "cell_type": "code",
   "execution_count": 9,
   "id": "0717ffca",
   "metadata": {},
   "outputs": [],
   "source": [
    "songs['Track Number']=songs['Track Number'].apply(lambda x: pd.to_numeric(x))\n",
    "songs['Play Count']=songs['Play Count'].apply(lambda x: pd.to_numeric(x))\n",
    "songs['Duration in Seconds']=songs['Duration in Seconds'].apply(lambda x: pd.to_numeric(x))"
   ]
  },
  {
   "cell_type": "code",
   "execution_count": 10,
   "id": "1c573df3",
   "metadata": {},
   "outputs": [],
   "source": [
    "songs['Album'] = songs['Album'].str.split(r'\\ \\(',expand=True)[0]\n",
    "songs['Title'] = songs['Title'].str.split(r'\\ \\(',expand=True)[0]\n",
    "songs['Title'] = songs['Title'].str.split(r'\\ -',expand=True)[0]\n",
    "songs['Album'] = songs['Album'].str.strip()\n",
    "songs['Title'] = songs['Title'].str.strip()"
   ]
  },
  {
   "cell_type": "code",
   "execution_count": 11,
   "id": "dbde50a0",
   "metadata": {},
   "outputs": [],
   "source": [
    "songs_2 = songs.drop_duplicates(subset=['Title'], keep='first')\n",
    "songs_2 = songs_2.drop(['Play Count','Duration in Seconds'], axis=1)\n",
    "songs_play = songs.groupby([songs['Title']]).sum()\n",
    "songs_play = songs_play.drop(['Duration in Seconds','Track Number'], axis=1)\n",
    "songs_2 = songs_2.merge(songs_play, on=['Title'], how='left')\n",
    "songs_2 = songs_2.reset_index()\n",
    "songs_2 = songs_2.drop('index', axis=1)"
   ]
  },
  {
   "cell_type": "code",
   "execution_count": 12,
   "id": "aeabdf7c",
   "metadata": {},
   "outputs": [],
   "source": [
    "songs_duration = songs.groupby([songs['Title']]).mean()\n",
    "songs_duration = songs_duration.drop(['Play Count','Track Number'], axis=1)\n",
    "songs_duration = songs_duration.reset_index()\n",
    "songs_2 = songs_2.merge(songs_duration, on=['Title'], how='left')"
   ]
  },
  {
   "cell_type": "code",
   "execution_count": 13,
   "id": "4908e741",
   "metadata": {},
   "outputs": [],
   "source": [
    "url = \"https://www.billboard.com/artist/taylor-swift/chart-history/hsi/\""
   ]
  },
  {
   "cell_type": "code",
   "execution_count": 14,
   "id": "9b01939d",
   "metadata": {},
   "outputs": [],
   "source": [
    "r = rq.get(url)\n",
    "soup = bs(r.text)"
   ]
  },
  {
   "cell_type": "code",
   "execution_count": 15,
   "id": "c93cd52a",
   "metadata": {},
   "outputs": [],
   "source": [
    "table = soup.find('div',{'class':'artist-chart-history // lrv-a-wrapper lrv-u-padding-lr-00@mobile-max u-padding-b-350@tablet lrv-u-padding-b-1@mobile-max'})\n",
    "\n",
    "table_title = table.find_all('div')[0]\n",
    "table_pos = table.find_all('div', {'o-chart-results-list__item // u-width-72 u-width-55@mobile-max lrv-u-flex lrv-u-flex-direction-column lrv-u-align-items-center lrv-u-justify-content-center u-background-color-white-064@mobile-max lrv-u-border-b-1 u-border-b-0@mobile-max lrv-u-border-color-grey-light'})\n",
    "table_weeks = table.find_all('div', {'class':'o-chart-results-list__item // u-width-72 u-width-55@mobile-max lrv-u-flex lrv-u-align-items-center lrv-u-justify-content-center u-background-color-white-064@mobile-max lrv-u-border-b-1 u-border-b-0@mobile-max lrv-u-border-color-grey-light'})"
   ]
  },
  {
   "cell_type": "code",
   "execution_count": 16,
   "id": "0d68047f",
   "metadata": {},
   "outputs": [],
   "source": [
    "songs = pd.DataFrame(columns=['Title','Peak Chart Position','Weeks on Chart'])"
   ]
  },
  {
   "cell_type": "code",
   "execution_count": 17,
   "id": "17333829",
   "metadata": {},
   "outputs": [],
   "source": [
    "for i in range(189):\n",
    "    songs.loc[i,'Title'] = table_title.find_all('h3')[i].get_text().replace('\\n','').replace('\\t','')\n",
    "songs = songs.drop(0)\n",
    "songs = songs.reset_index()\n",
    "songs = songs.drop('index', axis=1)"
   ]
  },
  {
   "cell_type": "code",
   "execution_count": 18,
   "id": "043e5fd5",
   "metadata": {},
   "outputs": [],
   "source": [
    "for i in range(188):\n",
    "    songs.loc[i,'Peak Chart Position'] = table_pos[i].get_text().replace('\\n','').split('\\t')[2]"
   ]
  },
  {
   "cell_type": "code",
   "execution_count": 19,
   "id": "e63aafb9",
   "metadata": {},
   "outputs": [],
   "source": [
    "for i in range(188):\n",
    "    songs.loc[i,'Weeks on Chart'] = table_weeks[i].get_text().replace('\\n','').replace('\\t','')"
   ]
  },
  {
   "cell_type": "code",
   "execution_count": 20,
   "id": "5b85361e",
   "metadata": {},
   "outputs": [],
   "source": [
    "songs['Peak Chart Position'] = pd.to_numeric(songs['Peak Chart Position'])\n",
    "songs['Weeks on Chart'] = pd.to_numeric(songs['Weeks on Chart'])"
   ]
  },
  {
   "cell_type": "code",
   "execution_count": 21,
   "id": "0301c9e4",
   "metadata": {},
   "outputs": [],
   "source": [
    "songs['Title'] = songs['Title'].str.split(r'\\ \\(',expand=True)[0]\n",
    "songs_new = pd.DataFrame(columns=['Title'])\n",
    "songs_new['Title'] = songs.drop_duplicates(subset=['Title'])['Title']"
   ]
  },
  {
   "cell_type": "code",
   "execution_count": 22,
   "id": "635a3ae4",
   "metadata": {},
   "outputs": [],
   "source": [
    "peak = songs.groupby('Title').min()\n",
    "songs_peak = songs_new.merge(peak, on='Title', how='left')\n",
    "songs_peak = songs_peak.drop('Weeks on Chart', axis=1)"
   ]
  },
  {
   "cell_type": "code",
   "execution_count": 23,
   "id": "ef2310c1",
   "metadata": {},
   "outputs": [],
   "source": [
    "weeks = songs.groupby('Title').sum()\n",
    "weeks = weeks.drop('Peak Chart Position', axis=1)\n",
    "songs_chart = songs_peak.merge(weeks, on='Title', how='inner')"
   ]
  },
  {
   "cell_type": "code",
   "execution_count": 24,
   "id": "e034d9eb",
   "metadata": {},
   "outputs": [],
   "source": [
    "songs_final = songs_2.merge(songs_chart, on='Title', how='left')"
   ]
  },
  {
   "cell_type": "code",
   "execution_count": 25,
   "id": "0234921d",
   "metadata": {},
   "outputs": [],
   "source": [
    "songs_final['Peak Chart Position'] = songs_final['Peak Chart Position'].replace(np.nan, 0).apply(lambda x: int(x))\n",
    "songs_final['Weeks on Chart'] = songs_final['Weeks on Chart'].replace(np.nan, 0).apply(lambda x: int(x))"
   ]
  },
  {
   "cell_type": "code",
   "execution_count": null,
   "id": "26d50224",
   "metadata": {},
   "outputs": [],
   "source": []
  },
  {
   "cell_type": "code",
   "execution_count": null,
   "id": "2c6fc0a6",
   "metadata": {},
   "outputs": [],
   "source": []
  },
  {
   "cell_type": "code",
   "execution_count": 26,
   "id": "568fbf9f",
   "metadata": {},
   "outputs": [],
   "source": [
    "url = \"https://en.wikipedia.org/wiki/Taylor_Swift_singles_discography\""
   ]
  },
  {
   "cell_type": "code",
   "execution_count": 27,
   "id": "50337ae8",
   "metadata": {},
   "outputs": [],
   "source": [
    "r = rq.get(url)\n",
    "soup = bs(r.text)"
   ]
  },
  {
   "cell_type": "code",
   "execution_count": 28,
   "id": "fce140d2",
   "metadata": {},
   "outputs": [],
   "source": [
    "table = soup.find_all('table')[1]\n",
    "entries = table.find_all('th')\n",
    "songs = list(entries)"
   ]
  },
  {
   "cell_type": "code",
   "execution_count": 29,
   "id": "14589c15",
   "metadata": {},
   "outputs": [],
   "source": [
    "titles = pd.DataFrame(columns=['Title'])"
   ]
  },
  {
   "cell_type": "code",
   "execution_count": 30,
   "id": "39c77925",
   "metadata": {},
   "outputs": [],
   "source": [
    "for i in range(15,24):\n",
    "    name = str(songs[i]).split(r'=')[3].split(r'>')[1].replace('</a','')\n",
    "    titles.loc[len(titles)] = name"
   ]
  },
  {
   "cell_type": "code",
   "execution_count": 31,
   "id": "03bf6571",
   "metadata": {},
   "outputs": [],
   "source": [
    "table = soup.find_all('table')[2]\n",
    "entries = table.find_all('th')\n",
    "songs = list(entries)"
   ]
  },
  {
   "cell_type": "code",
   "execution_count": 32,
   "id": "a57a3b96",
   "metadata": {},
   "outputs": [],
   "source": [
    "for i in range(15,51):\n",
    "    name = str(songs[i]).split(r'=')[3].split(r'>')[1].replace('</a','')\n",
    "    titles.loc[len(titles)] = name"
   ]
  },
  {
   "cell_type": "code",
   "execution_count": 33,
   "id": "339483b5",
   "metadata": {},
   "outputs": [],
   "source": [
    "table = soup.find_all('table')[3]\n",
    "entries = table.find_all('th')\n",
    "songs = list(entries)"
   ]
  },
  {
   "cell_type": "code",
   "execution_count": 34,
   "id": "278a9d08",
   "metadata": {},
   "outputs": [],
   "source": [
    "for i in range(15,27):\n",
    "    if (i==22):\n",
    "        continue\n",
    "    name = str(songs[i]).split(r'=')[3].split(r'>')[1].replace('</a','')\n",
    "    titles.loc[len(titles)] = name\n",
    "name = str(songs[22]).split(r'title=')[1].split(r'>')[0].replace('\"','')\n",
    "titles.loc[len(titles)] = name"
   ]
  },
  {
   "cell_type": "code",
   "execution_count": 35,
   "id": "f1c29081",
   "metadata": {},
   "outputs": [],
   "source": [
    "table = soup.find_all('table')[4]\n",
    "entries = table.find_all('th')\n",
    "songs = list(entries)"
   ]
  },
  {
   "cell_type": "code",
   "execution_count": 36,
   "id": "8e761e11",
   "metadata": {},
   "outputs": [],
   "source": [
    "for i in range(16,23):\n",
    "    name = str(songs[i]).split(r'=')[3].split(r'>')[1].replace('</a','')\n",
    "    titles.loc[len(titles)] = name"
   ]
  },
  {
   "cell_type": "code",
   "execution_count": 37,
   "id": "f4c527bf",
   "metadata": {},
   "outputs": [],
   "source": [
    "table = soup.find_all('table')[5]\n",
    "entries = table.find_all('th')\n",
    "songs = list(entries)"
   ]
  },
  {
   "cell_type": "code",
   "execution_count": 38,
   "id": "1a63abe5",
   "metadata": {},
   "outputs": [],
   "source": [
    "nums = [15,16,22,23,24,27,28,29,30,33,34,44,45,46]\n",
    "for i in range(15,50):\n",
    "    if (i in nums):\n",
    "        continue\n",
    "    name = str(songs[i]).split(r'=')[3].split(r'>')[1].replace('</a','')\n",
    "    titles.loc[len(titles)] = name\n",
    "for i in nums[0:11]:\n",
    "    name = str(songs[i]).split('>')[1].split('<')[0].replace('\"','')\n",
    "    titles.loc[len(titles)] = name\n",
    "for i in nums[11:14]:\n",
    "    name = str(songs[i]).split('title=')[1].split('>')[0].replace('\"','')\n",
    "    titles.loc[len(titles)] = name"
   ]
  },
  {
   "cell_type": "code",
   "execution_count": 39,
   "id": "f8eeb400",
   "metadata": {},
   "outputs": [],
   "source": [
    "titles['Title'] = titles['Title'].str.strip()"
   ]
  },
  {
   "cell_type": "code",
   "execution_count": null,
   "id": "84815471",
   "metadata": {},
   "outputs": [],
   "source": []
  },
  {
   "cell_type": "code",
   "execution_count": 40,
   "id": "b3bdda9c",
   "metadata": {},
   "outputs": [],
   "source": [
    "url = \"https://en.wikipedia.org/wiki/Taylor_Swift_videography\""
   ]
  },
  {
   "cell_type": "code",
   "execution_count": 41,
   "id": "9545df81",
   "metadata": {},
   "outputs": [],
   "source": [
    "r = rq.get(url)\n",
    "soup = bs(r.text)"
   ]
  },
  {
   "cell_type": "code",
   "execution_count": 42,
   "id": "72aae51e",
   "metadata": {},
   "outputs": [],
   "source": [
    "table = soup.find_all('table')[1]\n",
    "entries = table.find_all('th')\n",
    "songs = list(entries)"
   ]
  },
  {
   "cell_type": "code",
   "execution_count": 43,
   "id": "224c29f7",
   "metadata": {},
   "outputs": [],
   "source": [
    "titles_video = pd.DataFrame(columns=['Title'])"
   ]
  },
  {
   "cell_type": "code",
   "execution_count": 44,
   "id": "58aeff57",
   "metadata": {},
   "outputs": [],
   "source": [
    "nums = [10,12,62,64]\n",
    "for i in range(6,71):\n",
    "    if (i in nums):\n",
    "        continue\n",
    "    name = str(songs[i]).split('title=')[1].split('>')[0].replace('\"','')\n",
    "    titles_video.loc[len(titles_video)] = name\n",
    "nums = [10,12,62,64]\n",
    "for i in nums:\n",
    "    name = str(songs[i]).split('>')[1].split('\"')[1]\n",
    "    titles_video.loc[len(titles_video)] = name"
   ]
  },
  {
   "cell_type": "code",
   "execution_count": 45,
   "id": "217b3c23",
   "metadata": {},
   "outputs": [],
   "source": [
    "titles_video['Title'] = titles_video['Title'].str.split(r'\\(', expand=True)[0]\n",
    "titles_video['Title'] = titles_video['Title'].str.strip()"
   ]
  },
  {
   "cell_type": "code",
   "execution_count": null,
   "id": "29c16efc",
   "metadata": {},
   "outputs": [],
   "source": []
  },
  {
   "cell_type": "code",
   "execution_count": 46,
   "id": "91e1c693",
   "metadata": {},
   "outputs": [],
   "source": [
    "songs_final['Single'] = [0]*len(songs_final)\n",
    "songs_final['Music Video'] = [0]*len(songs_final)"
   ]
  },
  {
   "cell_type": "code",
   "execution_count": 47,
   "id": "62b45f22",
   "metadata": {},
   "outputs": [],
   "source": [
    "for i in range(0,len(songs_final)):\n",
    "    if (songs_final.iloc[i,0].upper() in str(list(titles['Title'])).upper()):\n",
    "        songs_final.iloc[i,7] = 1"
   ]
  },
  {
   "cell_type": "code",
   "execution_count": 48,
   "id": "17dcdc63",
   "metadata": {},
   "outputs": [],
   "source": [
    "for i in range(0,len(songs_final)):\n",
    "    if (songs_final.iloc[i,0].upper() in str(list(titles_video['Title'])).upper()):\n",
    "        songs_final.iloc[i,8] = 1"
   ]
  },
  {
   "cell_type": "code",
   "execution_count": null,
   "id": "04ace6b3",
   "metadata": {},
   "outputs": [],
   "source": []
  },
  {
   "cell_type": "code",
   "execution_count": 49,
   "id": "a981358d",
   "metadata": {},
   "outputs": [],
   "source": [
    "url = 'https://www.setlist.fm/setlist/taylor-swift/2023/state-farm-stadium-glendale-az-3bbb88dc.html'"
   ]
  },
  {
   "cell_type": "code",
   "execution_count": 50,
   "id": "1e9cd2a4",
   "metadata": {},
   "outputs": [],
   "source": [
    "r = rq.get(url)\n",
    "soup = bs(r.text)"
   ]
  },
  {
   "cell_type": "code",
   "execution_count": 51,
   "id": "0dd87b89",
   "metadata": {},
   "outputs": [],
   "source": [
    "songs = str(soup.find_all('script', {'type':'text/javascript'})[47]).replace('<script type=\"text/javascript\"><!--/*--><![CDATA[/*><!--*/\\nWicket.Event.add(window, \"domready\", function(event) { YouTubeSearch.setPlaylist([','').replace('], false);;});\\n/*-->]]>*/</script>','')\n",
    "songs_list = songs.replace('{\"song\":','').replace(',\"artist\":\"Taylor Swift\"}','').replace('\"','').split(',')"
   ]
  },
  {
   "cell_type": "code",
   "execution_count": 52,
   "id": "aa09fea2",
   "metadata": {},
   "outputs": [],
   "source": [
    "songs_final['Set List'] = [0]*len(songs_final)"
   ]
  },
  {
   "cell_type": "code",
   "execution_count": 53,
   "id": "aab25063",
   "metadata": {},
   "outputs": [],
   "source": [
    "for i in range(0,len(songs_final)):\n",
    "    if (songs_final.iloc[i,0].upper() in str(songs_list).upper()):\n",
    "        songs_final.iloc[i,9] = 1"
   ]
  },
  {
   "cell_type": "code",
   "execution_count": 54,
   "id": "b608c991",
   "metadata": {},
   "outputs": [
    {
     "data": {
      "text/html": [
       "<div>\n",
       "<style scoped>\n",
       "    .dataframe tbody tr th:only-of-type {\n",
       "        vertical-align: middle;\n",
       "    }\n",
       "\n",
       "    .dataframe tbody tr th {\n",
       "        vertical-align: top;\n",
       "    }\n",
       "\n",
       "    .dataframe thead th {\n",
       "        text-align: right;\n",
       "    }\n",
       "</style>\n",
       "<table border=\"1\" class=\"dataframe\">\n",
       "  <thead>\n",
       "    <tr style=\"text-align: right;\">\n",
       "      <th></th>\n",
       "      <th>Title</th>\n",
       "      <th>Album</th>\n",
       "      <th>Track Number</th>\n",
       "      <th>Play Count</th>\n",
       "      <th>Duration in Seconds</th>\n",
       "      <th>Peak Chart Position</th>\n",
       "      <th>Weeks on Chart</th>\n",
       "      <th>Single</th>\n",
       "      <th>Music Video</th>\n",
       "      <th>Set List</th>\n",
       "    </tr>\n",
       "  </thead>\n",
       "  <tbody>\n",
       "    <tr>\n",
       "      <th>0</th>\n",
       "      <td>Tim McGraw</td>\n",
       "      <td>Taylor Swift</td>\n",
       "      <td>1</td>\n",
       "      <td>85909025</td>\n",
       "      <td>232.106</td>\n",
       "      <td>40</td>\n",
       "      <td>20</td>\n",
       "      <td>1</td>\n",
       "      <td>1</td>\n",
       "      <td>0</td>\n",
       "    </tr>\n",
       "    <tr>\n",
       "      <th>1</th>\n",
       "      <td>Picture To Burn</td>\n",
       "      <td>Taylor Swift</td>\n",
       "      <td>2</td>\n",
       "      <td>114595018</td>\n",
       "      <td>173.066</td>\n",
       "      <td>28</td>\n",
       "      <td>20</td>\n",
       "      <td>1</td>\n",
       "      <td>1</td>\n",
       "      <td>0</td>\n",
       "    </tr>\n",
       "    <tr>\n",
       "      <th>2</th>\n",
       "      <td>Teardrops On My Guitar</td>\n",
       "      <td>Taylor Swift</td>\n",
       "      <td>3</td>\n",
       "      <td>156881355</td>\n",
       "      <td>203.040</td>\n",
       "      <td>13</td>\n",
       "      <td>48</td>\n",
       "      <td>1</td>\n",
       "      <td>1</td>\n",
       "      <td>0</td>\n",
       "    </tr>\n",
       "    <tr>\n",
       "      <th>3</th>\n",
       "      <td>A Place in this World</td>\n",
       "      <td>Taylor Swift</td>\n",
       "      <td>4</td>\n",
       "      <td>24588352</td>\n",
       "      <td>199.200</td>\n",
       "      <td>0</td>\n",
       "      <td>0</td>\n",
       "      <td>0</td>\n",
       "      <td>0</td>\n",
       "      <td>0</td>\n",
       "    </tr>\n",
       "    <tr>\n",
       "      <th>4</th>\n",
       "      <td>Cold As You</td>\n",
       "      <td>Taylor Swift</td>\n",
       "      <td>5</td>\n",
       "      <td>25614371</td>\n",
       "      <td>239.013</td>\n",
       "      <td>0</td>\n",
       "      <td>0</td>\n",
       "      <td>0</td>\n",
       "      <td>0</td>\n",
       "      <td>0</td>\n",
       "    </tr>\n",
       "    <tr>\n",
       "      <th>...</th>\n",
       "      <td>...</td>\n",
       "      <td>...</td>\n",
       "      <td>...</td>\n",
       "      <td>...</td>\n",
       "      <td>...</td>\n",
       "      <td>...</td>\n",
       "      <td>...</td>\n",
       "      <td>...</td>\n",
       "      <td>...</td>\n",
       "      <td>...</td>\n",
       "    </tr>\n",
       "    <tr>\n",
       "      <th>195</th>\n",
       "      <td>Dear Reader</td>\n",
       "      <td>Midnights</td>\n",
       "      <td>20</td>\n",
       "      <td>63761917</td>\n",
       "      <td>225.194</td>\n",
       "      <td>45</td>\n",
       "      <td>2</td>\n",
       "      <td>0</td>\n",
       "      <td>0</td>\n",
       "      <td>0</td>\n",
       "    </tr>\n",
       "    <tr>\n",
       "      <th>196</th>\n",
       "      <td>Eyes Open</td>\n",
       "      <td>Single</td>\n",
       "      <td>1</td>\n",
       "      <td>46390604</td>\n",
       "      <td>244.586</td>\n",
       "      <td>19</td>\n",
       "      <td>13</td>\n",
       "      <td>1</td>\n",
       "      <td>0</td>\n",
       "      <td>0</td>\n",
       "    </tr>\n",
       "    <tr>\n",
       "      <th>197</th>\n",
       "      <td>Highway Don't Care</td>\n",
       "      <td>Single</td>\n",
       "      <td>1</td>\n",
       "      <td>185177965</td>\n",
       "      <td>276.880</td>\n",
       "      <td>22</td>\n",
       "      <td>20</td>\n",
       "      <td>1</td>\n",
       "      <td>1</td>\n",
       "      <td>0</td>\n",
       "    </tr>\n",
       "    <tr>\n",
       "      <th>198</th>\n",
       "      <td>I Don’t Wanna Live Forever</td>\n",
       "      <td>Single</td>\n",
       "      <td>1</td>\n",
       "      <td>1363948086</td>\n",
       "      <td>247.160</td>\n",
       "      <td>0</td>\n",
       "      <td>0</td>\n",
       "      <td>0</td>\n",
       "      <td>0</td>\n",
       "      <td>0</td>\n",
       "    </tr>\n",
       "    <tr>\n",
       "      <th>199</th>\n",
       "      <td>Christmas Tree Farm</td>\n",
       "      <td>Single</td>\n",
       "      <td>1</td>\n",
       "      <td>116072690</td>\n",
       "      <td>228.026</td>\n",
       "      <td>59</td>\n",
       "      <td>6</td>\n",
       "      <td>1</td>\n",
       "      <td>1</td>\n",
       "      <td>0</td>\n",
       "    </tr>\n",
       "  </tbody>\n",
       "</table>\n",
       "<p>200 rows × 10 columns</p>\n",
       "</div>"
      ],
      "text/plain": [
       "                          Title         Album  Track Number  Play Count  \\\n",
       "0                    Tim McGraw  Taylor Swift             1    85909025   \n",
       "1               Picture To Burn  Taylor Swift             2   114595018   \n",
       "2        Teardrops On My Guitar  Taylor Swift             3   156881355   \n",
       "3         A Place in this World  Taylor Swift             4    24588352   \n",
       "4                   Cold As You  Taylor Swift             5    25614371   \n",
       "..                          ...           ...           ...         ...   \n",
       "195                 Dear Reader     Midnights            20    63761917   \n",
       "196                   Eyes Open        Single             1    46390604   \n",
       "197          Highway Don't Care        Single             1   185177965   \n",
       "198  I Don’t Wanna Live Forever        Single             1  1363948086   \n",
       "199         Christmas Tree Farm        Single             1   116072690   \n",
       "\n",
       "     Duration in Seconds  Peak Chart Position  Weeks on Chart  Single  \\\n",
       "0                232.106                   40              20       1   \n",
       "1                173.066                   28              20       1   \n",
       "2                203.040                   13              48       1   \n",
       "3                199.200                    0               0       0   \n",
       "4                239.013                    0               0       0   \n",
       "..                   ...                  ...             ...     ...   \n",
       "195              225.194                   45               2       0   \n",
       "196              244.586                   19              13       1   \n",
       "197              276.880                   22              20       1   \n",
       "198              247.160                    0               0       0   \n",
       "199              228.026                   59               6       1   \n",
       "\n",
       "     Music Video  Set List  \n",
       "0              1         0  \n",
       "1              1         0  \n",
       "2              1         0  \n",
       "3              0         0  \n",
       "4              0         0  \n",
       "..           ...       ...  \n",
       "195            0         0  \n",
       "196            0         0  \n",
       "197            1         0  \n",
       "198            0         0  \n",
       "199            1         0  \n",
       "\n",
       "[200 rows x 10 columns]"
      ]
     },
     "execution_count": 54,
     "metadata": {},
     "output_type": "execute_result"
    }
   ],
   "source": [
    "songs_final"
   ]
  },
  {
   "cell_type": "code",
   "execution_count": null,
   "id": "d58c9781",
   "metadata": {},
   "outputs": [],
   "source": []
  },
  {
   "cell_type": "code",
   "execution_count": 56,
   "id": "613897b0",
   "metadata": {},
   "outputs": [],
   "source": [
    "songs_final.to_csv('TaylorSwiftSongs.csv')"
   ]
  }
 ],
 "metadata": {
  "kernelspec": {
   "display_name": "Python 3 (ipykernel)",
   "language": "python",
   "name": "python3"
  },
  "language_info": {
   "codemirror_mode": {
    "name": "ipython",
    "version": 3
   },
   "file_extension": ".py",
   "mimetype": "text/x-python",
   "name": "python",
   "nbconvert_exporter": "python",
   "pygments_lexer": "ipython3",
   "version": "3.9.13"
  }
 },
 "nbformat": 4,
 "nbformat_minor": 5
}
