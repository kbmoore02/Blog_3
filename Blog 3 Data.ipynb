{
 "cells": [
  {
   "cell_type": "code",
   "execution_count": 1,
   "id": "50acb5a6",
   "metadata": {},
   "outputs": [],
   "source": [
    "import requests as rq\n",
    "import pandas as pd\n",
    "import re"
   ]
  },
  {
   "cell_type": "code",
   "execution_count": 2,
   "id": "4701a6a7",
   "metadata": {},
   "outputs": [],
   "source": [
    "apikey = \"it's a secret\""
   ]
  },
  {
   "cell_type": "code",
   "execution_count": 3,
   "id": "640ae270",
   "metadata": {},
   "outputs": [],
   "source": [
    "payload = {}\n",
    "headers = {'apikey': apikey}\n",
    "\n",
    "base_url = \"https://api.apilayer.com/spotify/\"\n",
    "endpoint_url = \"album_tracks\"\n",
    "album_url = \"album_metadata\""
   ]
  },
  {
   "cell_type": "code",
   "execution_count": 4,
   "id": "cf64c78c",
   "metadata": {},
   "outputs": [],
   "source": [
    "songs = pd.DataFrame(columns=['Title','Album','Track Number','Play Count','Duration in Seconds','Rating'])"
   ]
  },
  {
   "cell_type": "code",
   "execution_count": 5,
   "id": "3f58cd55",
   "metadata": {},
   "outputs": [],
   "source": [
    "ids = ['7mzrIsaAjnXihW3InKjlC3','7vzYp7FrKnTRoktBYsx9SF','2dqn5yOQWdyGwOpOIi9O4x','4hDok0OAJd57SGIT8xuWJH',\n",
    "       '5EpMjweRD573ASl7uNiHym','1KlU96Hw9nlvqpBPlSqcTV','6kZ42qRrzov54LcAk4onW9','34OkZVpuzBa9y40DCy0LPR',\n",
    "       '6DEjYFkNZh67HP7R9PSZvv','1NAmidJlEaVgA3MpcPFYGq','1pzvBxYgT6OVwJLtHkrdQK','6AORtDjduMM3bupSWzbTSG',\n",
    "       '3lS1y25WAhcqJDATJK70Mq']"
   ]
  },
  {
   "cell_type": "code",
   "execution_count": 6,
   "id": "2faf1711",
   "metadata": {},
   "outputs": [],
   "source": [
    "for j in range(len(ids)):\n",
    "    params = {'id': ids[j]}\n",
    "    r = rq.get(base_url + endpoint_url, params=params, headers=headers, data=payload)\n",
    "    data = pd.DataFrame(r.json())\n",
    "    data = data[\"data\"].apply(pd.Series)\n",
    "    data = data[\"tracks\"].apply(pd.Series)\n",
    "    data = data[\"items\"].apply(pd.Series)\n",
    "    table = pd.DataFrame(columns=['Title','Album','Track Number','Play Count','Duration in Seconds','Rating'])\n",
    "    for i in range(data.shape[1]):\n",
    "        track = data.iloc[0,i]\n",
    "        table.loc[i,'Title'] = track['track']['name']\n",
    "        table.loc[i,'Track Number'] = track['track']['trackNumber']\n",
    "        table.loc[i,'Play Count'] = track['track']['playcount']\n",
    "        table.loc[i,'Duration in Seconds'] = track['track']['duration']['totalMilliseconds']/1000\n",
    "        table.loc[i,'Rating'] = track['track']['contentRating']['label']\n",
    "    ra = rq.get(base_url + album_url, params=params, headers=headers, data=payload)\n",
    "    data = pd.DataFrame(ra.json())\n",
    "    table['Album'] = data['data']['album']['name']\n",
    "    songs = pd.concat([songs,table])"
   ]
  },
  {
   "cell_type": "code",
   "execution_count": 7,
   "id": "8c8964c5",
   "metadata": {},
   "outputs": [],
   "source": [
    "sids = ['45nqVXRAW0xv0wpU9JljPN','1O3BsjGx9plSOJ036ZY4Fl','1MPAXuTVL2Ej5x0JHiSPq8', '5JnnrTE35MQagEnEkFthiF']\n",
    "num = [13, 10, 9, 0]"
   ]
  },
  {
   "cell_type": "code",
   "execution_count": 8,
   "id": "bb8f3205",
   "metadata": {},
   "outputs": [],
   "source": [
    "for j in range(len(sids)):\n",
    "    params = {'id': sids[j]}\n",
    "    r = rq.get(base_url + endpoint_url, params=params, headers=headers, data=payload)\n",
    "    data = pd.DataFrame(r.json())\n",
    "    data = data[\"data\"].apply(pd.Series)\n",
    "    data = data[\"tracks\"].apply(pd.Series)\n",
    "    data = data[\"items\"].apply(pd.Series)\n",
    "    table = pd.DataFrame(columns=['Title','Album','Track Number','Play Count','Duration in Seconds','Rating'])\n",
    "    track = data.iloc[0,num[j]]\n",
    "    table.loc[i,'Title'] = track['track']['name']\n",
    "    table.loc[i,'Track Number'] = 1\n",
    "    table.loc[i,'Play Count'] = track['track']['playcount']\n",
    "    table.loc[i,'Duration in Seconds'] = track['track']['duration']['totalMilliseconds']/1000\n",
    "    table.loc[i,'Rating'] = track['track']['contentRating']['label']\n",
    "    table['Album'] = 'Single'\n",
    "    songs = pd.concat([songs,table])"
   ]
  },
  {
   "cell_type": "code",
   "execution_count": 9,
   "id": "0717ffca",
   "metadata": {},
   "outputs": [],
   "source": [
    "songs['Track Number']=songs['Track Number'].apply(lambda x: pd.to_numeric(x))\n",
    "songs['Play Count']=songs['Play Count'].apply(lambda x: pd.to_numeric(x))\n",
    "songs['Duration in Seconds']=songs['Duration in Seconds'].apply(lambda x: pd.to_numeric(x))"
   ]
  },
  {
   "cell_type": "code",
   "execution_count": 10,
   "id": "1c573df3",
   "metadata": {},
   "outputs": [],
   "source": [
    "songs['Album'] = songs['Album'].str.split(r'\\ \\(',expand=True)[0]\n",
    "songs['Title'] = songs['Title'].str.split(r'\\ \\(',expand=True)[0]\n",
    "songs['Title'] = songs['Title'].str.split(r'\\ -',expand=True)[0]\n",
    "songs['Album'] = songs['Album'].str.strip()\n",
    "songs['Title'] = songs['Title'].str.strip()"
   ]
  },
  {
   "cell_type": "code",
   "execution_count": 11,
   "id": "0b689122",
   "metadata": {},
   "outputs": [],
   "source": [
    "songs_final = songs.drop_duplicates(subset=['Title'], keep='first')\n",
    "songs_final = songs_final.drop(['Play Count','Duration in Seconds'], axis=1)\n",
    "songs_final['Play Count'] = list(songs.groupby([songs['Title']]).sum()['Play Count'])\n",
    "songs_final['Duration in Seconds'] = list(songs.groupby([songs['Title']]).mean()['Duration in Seconds'])\n",
    "songs_final.reset_index(inplace=True)\n",
    "songs_final = songs_final.drop('index', axis=1)"
   ]
  },
  {
   "cell_type": "code",
   "execution_count": 12,
   "id": "e4e72847",
   "metadata": {},
   "outputs": [
    {
     "data": {
      "text/html": [
       "<div>\n",
       "<style scoped>\n",
       "    .dataframe tbody tr th:only-of-type {\n",
       "        vertical-align: middle;\n",
       "    }\n",
       "\n",
       "    .dataframe tbody tr th {\n",
       "        vertical-align: top;\n",
       "    }\n",
       "\n",
       "    .dataframe thead th {\n",
       "        text-align: right;\n",
       "    }\n",
       "</style>\n",
       "<table border=\"1\" class=\"dataframe\">\n",
       "  <thead>\n",
       "    <tr style=\"text-align: right;\">\n",
       "      <th></th>\n",
       "      <th>Title</th>\n",
       "      <th>Album</th>\n",
       "      <th>Track Number</th>\n",
       "      <th>Rating</th>\n",
       "      <th>Play Count</th>\n",
       "      <th>Duration in Seconds</th>\n",
       "    </tr>\n",
       "  </thead>\n",
       "  <tbody>\n",
       "    <tr>\n",
       "      <th>0</th>\n",
       "      <td>Tim McGraw</td>\n",
       "      <td>Taylor Swift</td>\n",
       "      <td>1</td>\n",
       "      <td>NONE</td>\n",
       "      <td>448337012</td>\n",
       "      <td>208.1860</td>\n",
       "    </tr>\n",
       "    <tr>\n",
       "      <th>1</th>\n",
       "      <td>Picture To Burn</td>\n",
       "      <td>Taylor Swift</td>\n",
       "      <td>2</td>\n",
       "      <td>NONE</td>\n",
       "      <td>421937510</td>\n",
       "      <td>230.5465</td>\n",
       "    </tr>\n",
       "    <tr>\n",
       "      <th>2</th>\n",
       "      <td>Teardrops On My Guitar</td>\n",
       "      <td>Taylor Swift</td>\n",
       "      <td>3</td>\n",
       "      <td>NONE</td>\n",
       "      <td>14840936</td>\n",
       "      <td>220.1460</td>\n",
       "    </tr>\n",
       "    <tr>\n",
       "      <th>3</th>\n",
       "      <td>A Place in this World</td>\n",
       "      <td>Taylor Swift</td>\n",
       "      <td>4</td>\n",
       "      <td>NONE</td>\n",
       "      <td>24269863</td>\n",
       "      <td>199.2000</td>\n",
       "    </tr>\n",
       "    <tr>\n",
       "      <th>4</th>\n",
       "      <td>Cold As You</td>\n",
       "      <td>Taylor Swift</td>\n",
       "      <td>5</td>\n",
       "      <td>NONE</td>\n",
       "      <td>201250577</td>\n",
       "      <td>223.2930</td>\n",
       "    </tr>\n",
       "    <tr>\n",
       "      <th>...</th>\n",
       "      <td>...</td>\n",
       "      <td>...</td>\n",
       "      <td>...</td>\n",
       "      <td>...</td>\n",
       "      <td>...</td>\n",
       "      <td>...</td>\n",
       "    </tr>\n",
       "    <tr>\n",
       "      <th>195</th>\n",
       "      <td>Dear Reader</td>\n",
       "      <td>Midnights</td>\n",
       "      <td>20</td>\n",
       "      <td>NONE</td>\n",
       "      <td>214722354</td>\n",
       "      <td>231.0000</td>\n",
       "    </tr>\n",
       "    <tr>\n",
       "      <th>196</th>\n",
       "      <td>Eyes Open</td>\n",
       "      <td>Single</td>\n",
       "      <td>1</td>\n",
       "      <td>NONE</td>\n",
       "      <td>212032914</td>\n",
       "      <td>195.1060</td>\n",
       "    </tr>\n",
       "    <tr>\n",
       "      <th>197</th>\n",
       "      <td>Highway Don't Care</td>\n",
       "      <td>Single</td>\n",
       "      <td>1</td>\n",
       "      <td>NONE</td>\n",
       "      <td>147470813</td>\n",
       "      <td>245.4400</td>\n",
       "    </tr>\n",
       "    <tr>\n",
       "      <th>198</th>\n",
       "      <td>I Don’t Wanna Live Forever</td>\n",
       "      <td>Single</td>\n",
       "      <td>1</td>\n",
       "      <td>NONE</td>\n",
       "      <td>543239713</td>\n",
       "      <td>214.7060</td>\n",
       "    </tr>\n",
       "    <tr>\n",
       "      <th>199</th>\n",
       "      <td>Christmas Tree Farm</td>\n",
       "      <td>Single</td>\n",
       "      <td>1</td>\n",
       "      <td>NONE</td>\n",
       "      <td>149557241</td>\n",
       "      <td>229.8400</td>\n",
       "    </tr>\n",
       "  </tbody>\n",
       "</table>\n",
       "<p>200 rows × 6 columns</p>\n",
       "</div>"
      ],
      "text/plain": [
       "                          Title         Album  Track Number Rating  \\\n",
       "0                    Tim McGraw  Taylor Swift             1   NONE   \n",
       "1               Picture To Burn  Taylor Swift             2   NONE   \n",
       "2        Teardrops On My Guitar  Taylor Swift             3   NONE   \n",
       "3         A Place in this World  Taylor Swift             4   NONE   \n",
       "4                   Cold As You  Taylor Swift             5   NONE   \n",
       "..                          ...           ...           ...    ...   \n",
       "195                 Dear Reader     Midnights            20   NONE   \n",
       "196                   Eyes Open        Single             1   NONE   \n",
       "197          Highway Don't Care        Single             1   NONE   \n",
       "198  I Don’t Wanna Live Forever        Single             1   NONE   \n",
       "199         Christmas Tree Farm        Single             1   NONE   \n",
       "\n",
       "     Play Count  Duration in Seconds  \n",
       "0     448337012             208.1860  \n",
       "1     421937510             230.5465  \n",
       "2      14840936             220.1460  \n",
       "3      24269863             199.2000  \n",
       "4     201250577             223.2930  \n",
       "..          ...                  ...  \n",
       "195   214722354             231.0000  \n",
       "196   212032914             195.1060  \n",
       "197   147470813             245.4400  \n",
       "198   543239713             214.7060  \n",
       "199   149557241             229.8400  \n",
       "\n",
       "[200 rows x 6 columns]"
      ]
     },
     "execution_count": 12,
     "metadata": {},
     "output_type": "execute_result"
    }
   ],
   "source": [
    "songs_final"
   ]
  },
  {
   "cell_type": "code",
   "execution_count": 13,
   "id": "cdbd54d2",
   "metadata": {},
   "outputs": [],
   "source": [
    "songs_final.to_csv('TaylorSwiftSongs.csv')"
   ]
  }
 ],
 "metadata": {
  "kernelspec": {
   "display_name": "Python 3 (ipykernel)",
   "language": "python",
   "name": "python3"
  },
  "language_info": {
   "codemirror_mode": {
    "name": "ipython",
    "version": 3
   },
   "file_extension": ".py",
   "mimetype": "text/x-python",
   "name": "python",
   "nbconvert_exporter": "python",
   "pygments_lexer": "ipython3",
   "version": "3.9.13"
  }
 },
 "nbformat": 4,
 "nbformat_minor": 5
}
