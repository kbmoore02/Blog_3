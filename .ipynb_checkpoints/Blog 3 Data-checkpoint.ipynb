{
 "cells": [
  {
   "cell_type": "code",
   "execution_count": 1,
   "id": "50acb5a6",
   "metadata": {},
   "outputs": [],
   "source": [
    "import requests as rq\n",
    "import pandas as pd\n",
    "import re\n",
    "import numpy as np\n",
    "from bs4 import BeautifulSoup as bs"
   ]
  },
  {
   "cell_type": "code",
   "execution_count": 2,
   "id": "4701a6a7",
   "metadata": {},
   "outputs": [],
   "source": [
    "apikey = \"it's a secret\""
   ]
  },
  {
   "cell_type": "code",
   "execution_count": 3,
   "id": "640ae270",
   "metadata": {},
   "outputs": [],
   "source": [
    "payload = {}\n",
    "headers = {'apikey': apikey}\n",
    "\n",
    "base_url = \"https://api.apilayer.com/spotify/\"\n",
    "endpoint_url = \"album_tracks\"\n",
    "album_url = \"album_metadata\""
   ]
  },
  {
   "cell_type": "code",
   "execution_count": 4,
   "id": "cf64c78c",
   "metadata": {},
   "outputs": [],
   "source": [
    "songs = pd.DataFrame(columns=['Title','Album','Track Number','Play Count','Duration in Seconds'])"
   ]
  },
  {
   "cell_type": "code",
   "execution_count": 5,
   "id": "3f58cd55",
   "metadata": {},
   "outputs": [],
   "source": [
    "ids = ['7mzrIsaAjnXihW3InKjlC3','7vzYp7FrKnTRoktBYsx9SF','2dqn5yOQWdyGwOpOIi9O4x','4hDok0OAJd57SGIT8xuWJH',\n",
    "       '5EpMjweRD573ASl7uNiHym','1KlU96Hw9nlvqpBPlSqcTV','6kZ42qRrzov54LcAk4onW9','34OkZVpuzBa9y40DCy0LPR',\n",
    "       '6DEjYFkNZh67HP7R9PSZvv','1NAmidJlEaVgA3MpcPFYGq','1pzvBxYgT6OVwJLtHkrdQK','6AORtDjduMM3bupSWzbTSG',\n",
    "       '3lS1y25WAhcqJDATJK70Mq']"
   ]
  },
  {
   "cell_type": "code",
   "execution_count": 6,
   "id": "2faf1711",
   "metadata": {},
   "outputs": [],
   "source": [
    "for j in range(len(ids)):\n",
    "    params = {'id': ids[j]}\n",
    "    r = rq.get(base_url + endpoint_url, params=params, headers=headers, data=payload)\n",
    "    data = pd.DataFrame(r.json())\n",
    "    data = data[\"data\"].apply(pd.Series)\n",
    "    data = data[\"tracks\"].apply(pd.Series)\n",
    "    data = data[\"items\"].apply(pd.Series)\n",
    "    table = pd.DataFrame(columns=['Title','Album','Track Number','Play Count','Duration in Seconds'])\n",
    "    for i in range(data.shape[1]):\n",
    "        track = data.iloc[0,i]\n",
    "        table.loc[i,'Title'] = track['track']['name']\n",
    "        table.loc[i,'Track Number'] = track['track']['trackNumber']\n",
    "        table.loc[i,'Play Count'] = track['track']['playcount']\n",
    "        table.loc[i,'Duration in Seconds'] = track['track']['duration']['totalMilliseconds']/1000\n",
    "    ra = rq.get(base_url + album_url, params=params, headers=headers, data=payload)\n",
    "    data = pd.DataFrame(ra.json())\n",
    "    table['Album'] = data['data']['album']['name']\n",
    "    songs = pd.concat([songs,table])"
   ]
  },
  {
   "cell_type": "code",
   "execution_count": 7,
   "id": "8c8964c5",
   "metadata": {},
   "outputs": [],
   "source": [
    "sids = ['45nqVXRAW0xv0wpU9JljPN','1O3BsjGx9plSOJ036ZY4Fl','1MPAXuTVL2Ej5x0JHiSPq8', '5JnnrTE35MQagEnEkFthiF']\n",
    "num = [13, 10, 9, 0]"
   ]
  },
  {
   "cell_type": "code",
   "execution_count": 8,
   "id": "bb8f3205",
   "metadata": {},
   "outputs": [],
   "source": [
    "for j in range(len(sids)):\n",
    "    params = {'id': sids[j]}\n",
    "    r = rq.get(base_url + endpoint_url, params=params, headers=headers, data=payload)\n",
    "    data = pd.DataFrame(r.json())\n",
    "    data = data[\"data\"].apply(pd.Series)\n",
    "    data = data[\"tracks\"].apply(pd.Series)\n",
    "    data = data[\"items\"].apply(pd.Series)\n",
    "    table = pd.DataFrame(columns=['Title','Album','Track Number','Play Count','Duration in Seconds'])\n",
    "    track = data.iloc[0,num[j]]\n",
    "    table.loc[i,'Title'] = track['track']['name']\n",
    "    table.loc[i,'Track Number'] = 1\n",
    "    table.loc[i,'Play Count'] = track['track']['playcount']\n",
    "    table.loc[i,'Duration in Seconds'] = track['track']['duration']['totalMilliseconds']/1000\n",
    "    table['Album'] = 'Single'\n",
    "    songs = pd.concat([songs,table])"
   ]
  },
  {
   "cell_type": "code",
   "execution_count": 9,
   "id": "0717ffca",
   "metadata": {},
   "outputs": [],
   "source": [
    "songs['Track Number']=songs['Track Number'].apply(lambda x: pd.to_numeric(x))\n",
    "songs['Play Count']=songs['Play Count'].apply(lambda x: pd.to_numeric(x))\n",
    "songs['Duration in Seconds']=songs['Duration in Seconds'].apply(lambda x: pd.to_numeric(x))"
   ]
  },
  {
   "cell_type": "code",
   "execution_count": 10,
   "id": "1c573df3",
   "metadata": {},
   "outputs": [],
   "source": [
    "songs['Album'] = songs['Album'].str.split(r'\\ \\(',expand=True)[0]\n",
    "songs['Title'] = songs['Title'].str.split(r'\\ \\(',expand=True)[0]\n",
    "songs['Title'] = songs['Title'].str.split(r'\\ -',expand=True)[0]\n",
    "songs['Album'] = songs['Album'].str.strip()\n",
    "songs['Title'] = songs['Title'].str.strip()"
   ]
  },
  {
   "cell_type": "code",
   "execution_count": 11,
   "id": "dbde50a0",
   "metadata": {},
   "outputs": [],
   "source": [
    "songs_2 = songs.drop_duplicates(subset=['Title'], keep='first')\n",
    "songs_2 = songs_2.drop(['Play Count','Duration in Seconds'], axis=1)\n",
    "songs_play = songs.groupby([songs['Title']]).sum()\n",
    "songs_play = songs_play.drop(['Duration in Seconds','Track Number'], axis=1)\n",
    "songs_2 = songs_2.merge(songs_play, on=['Title'], how='left')\n",
    "songs_2 = songs_2.reset_index()\n",
    "songs_2 = songs_2.drop('index', axis=1)"
   ]
  },
  {
   "cell_type": "code",
   "execution_count": 12,
   "id": "aeabdf7c",
   "metadata": {},
   "outputs": [],
   "source": [
    "songs_duration = songs.groupby([songs['Title']]).mean()\n",
    "songs_duration = songs_duration.drop(['Play Count','Track Number'], axis=1)\n",
    "songs_duration = songs_duration.reset_index()\n",
    "songs_2 = songs_2.merge(songs_duration, on=['Title'], how='left')"
   ]
  },
  {
   "cell_type": "code",
   "execution_count": 13,
   "id": "4908e741",
   "metadata": {},
   "outputs": [],
   "source": [
    "url = \"https://www.billboard.com/artist/taylor-swift/chart-history/hsi/\""
   ]
  },
  {
   "cell_type": "code",
   "execution_count": 14,
   "id": "9b01939d",
   "metadata": {},
   "outputs": [],
   "source": [
    "r = rq.get(url)\n",
    "soup = bs(r.text)"
   ]
  },
  {
   "cell_type": "code",
   "execution_count": 15,
   "id": "c93cd52a",
   "metadata": {},
   "outputs": [],
   "source": [
    "table = soup.find('div',{'class':'artist-chart-history // lrv-a-wrapper lrv-u-padding-lr-00@mobile-max u-padding-b-350@tablet lrv-u-padding-b-1@mobile-max'})\n",
    "\n",
    "table_title = table.find_all('div')[0]\n",
    "table_pos = table.find_all('div', {'o-chart-results-list__item // u-width-72 u-width-55@mobile-max lrv-u-flex lrv-u-flex-direction-column lrv-u-align-items-center lrv-u-justify-content-center u-background-color-white-064@mobile-max lrv-u-border-b-1 u-border-b-0@mobile-max lrv-u-border-color-grey-light'})\n",
    "table_weeks = table.find_all('div', {'class':'o-chart-results-list__item // u-width-72 u-width-55@mobile-max lrv-u-flex lrv-u-align-items-center lrv-u-justify-content-center u-background-color-white-064@mobile-max lrv-u-border-b-1 u-border-b-0@mobile-max lrv-u-border-color-grey-light'})"
   ]
  },
  {
   "cell_type": "code",
   "execution_count": 16,
   "id": "0d68047f",
   "metadata": {},
   "outputs": [],
   "source": [
    "songs = pd.DataFrame(columns=['Title','Peak Chart Position','Weeks on Chart'])"
   ]
  },
  {
   "cell_type": "code",
   "execution_count": 17,
   "id": "17333829",
   "metadata": {},
   "outputs": [],
   "source": [
    "for i in range(189):\n",
    "    songs.loc[i,'Title'] = table_title.find_all('h3')[i].get_text().replace('\\n','').replace('\\t','')\n",
    "songs = songs.drop(0)\n",
    "songs = songs.reset_index()\n",
    "songs = songs.drop('index', axis=1)"
   ]
  },
  {
   "cell_type": "code",
   "execution_count": 18,
   "id": "043e5fd5",
   "metadata": {},
   "outputs": [],
   "source": [
    "for i in range(188):\n",
    "    songs.loc[i,'Peak Chart Position'] = table_pos[i].get_text().replace('\\n','').split('\\t')[2]"
   ]
  },
  {
   "cell_type": "code",
   "execution_count": 19,
   "id": "e63aafb9",
   "metadata": {},
   "outputs": [],
   "source": [
    "for i in range(188):\n",
    "    songs.loc[i,'Weeks on Chart'] = table_weeks[i].get_text().replace('\\n','').replace('\\t','')"
   ]
  },
  {
   "cell_type": "code",
   "execution_count": 20,
   "id": "5b85361e",
   "metadata": {},
   "outputs": [],
   "source": [
    "songs['Peak Chart Position'] = pd.to_numeric(songs['Peak Chart Position'])\n",
    "songs['Weeks on Chart'] = pd.to_numeric(songs['Weeks on Chart'])"
   ]
  },
  {
   "cell_type": "code",
   "execution_count": 21,
   "id": "0301c9e4",
   "metadata": {},
   "outputs": [],
   "source": [
    "songs['Title'] = songs['Title'].str.split(r'\\ \\(',expand=True)[0]\n",
    "songs_new = pd.DataFrame(columns=['Title'])\n",
    "songs_new['Title'] = songs.drop_duplicates(subset=['Title'])['Title']"
   ]
  },
  {
   "cell_type": "code",
   "execution_count": 22,
   "id": "635a3ae4",
   "metadata": {},
   "outputs": [],
   "source": [
    "peak = songs.groupby('Title').min()\n",
    "songs_peak = songs_new.merge(peak, on='Title', how='left')\n",
    "songs_peak = songs_peak.drop('Weeks on Chart', axis=1)"
   ]
  },
  {
   "cell_type": "code",
   "execution_count": 23,
   "id": "ef2310c1",
   "metadata": {},
   "outputs": [],
   "source": [
    "weeks = songs.groupby('Title').sum()\n",
    "weeks = weeks.drop('Peak Chart Position', axis=1)\n",
    "songs_chart = songs_peak.merge(weeks, on='Title', how='inner')"
   ]
  },
  {
   "cell_type": "code",
   "execution_count": 24,
   "id": "e034d9eb",
   "metadata": {},
   "outputs": [],
   "source": [
    "songs_final = songs_2.merge(songs_chart, on='Title', how='left')"
   ]
  },
  {
   "cell_type": "code",
   "execution_count": 25,
   "id": "0234921d",
   "metadata": {},
   "outputs": [],
   "source": [
    "songs_final['Peak Chart Position'] = songs_final['Peak Chart Position'].replace(np.nan, -1).apply(lambda x: int(x))\n",
    "songs_final['Weeks on Chart'] = songs_final['Weeks on Chart'].replace(np.nan, -1).apply(lambda x: int(x))"
   ]
  },
  {
   "cell_type": "code",
   "execution_count": 26,
   "id": "e45250ad",
   "metadata": {},
   "outputs": [
    {
     "data": {
      "text/html": [
       "<div>\n",
       "<style scoped>\n",
       "    .dataframe tbody tr th:only-of-type {\n",
       "        vertical-align: middle;\n",
       "    }\n",
       "\n",
       "    .dataframe tbody tr th {\n",
       "        vertical-align: top;\n",
       "    }\n",
       "\n",
       "    .dataframe thead th {\n",
       "        text-align: right;\n",
       "    }\n",
       "</style>\n",
       "<table border=\"1\" class=\"dataframe\">\n",
       "  <thead>\n",
       "    <tr style=\"text-align: right;\">\n",
       "      <th></th>\n",
       "      <th>Title</th>\n",
       "      <th>Album</th>\n",
       "      <th>Track Number</th>\n",
       "      <th>Play Count</th>\n",
       "      <th>Duration in Seconds</th>\n",
       "      <th>Peak Chart Position</th>\n",
       "      <th>Weeks on Chart</th>\n",
       "    </tr>\n",
       "  </thead>\n",
       "  <tbody>\n",
       "    <tr>\n",
       "      <th>0</th>\n",
       "      <td>Tim McGraw</td>\n",
       "      <td>Taylor Swift</td>\n",
       "      <td>1</td>\n",
       "      <td>85080608</td>\n",
       "      <td>232.106</td>\n",
       "      <td>40</td>\n",
       "      <td>20</td>\n",
       "    </tr>\n",
       "    <tr>\n",
       "      <th>1</th>\n",
       "      <td>Picture To Burn</td>\n",
       "      <td>Taylor Swift</td>\n",
       "      <td>2</td>\n",
       "      <td>113459216</td>\n",
       "      <td>173.066</td>\n",
       "      <td>28</td>\n",
       "      <td>20</td>\n",
       "    </tr>\n",
       "    <tr>\n",
       "      <th>2</th>\n",
       "      <td>Teardrops On My Guitar</td>\n",
       "      <td>Taylor Swift</td>\n",
       "      <td>3</td>\n",
       "      <td>155880670</td>\n",
       "      <td>203.040</td>\n",
       "      <td>13</td>\n",
       "      <td>48</td>\n",
       "    </tr>\n",
       "    <tr>\n",
       "      <th>3</th>\n",
       "      <td>A Place in this World</td>\n",
       "      <td>Taylor Swift</td>\n",
       "      <td>4</td>\n",
       "      <td>24351942</td>\n",
       "      <td>199.200</td>\n",
       "      <td>-1</td>\n",
       "      <td>-1</td>\n",
       "    </tr>\n",
       "    <tr>\n",
       "      <th>4</th>\n",
       "      <td>Cold As You</td>\n",
       "      <td>Taylor Swift</td>\n",
       "      <td>5</td>\n",
       "      <td>25370648</td>\n",
       "      <td>239.013</td>\n",
       "      <td>-1</td>\n",
       "      <td>-1</td>\n",
       "    </tr>\n",
       "    <tr>\n",
       "      <th>...</th>\n",
       "      <td>...</td>\n",
       "      <td>...</td>\n",
       "      <td>...</td>\n",
       "      <td>...</td>\n",
       "      <td>...</td>\n",
       "      <td>...</td>\n",
       "      <td>...</td>\n",
       "    </tr>\n",
       "    <tr>\n",
       "      <th>195</th>\n",
       "      <td>Dear Reader</td>\n",
       "      <td>Midnights</td>\n",
       "      <td>20</td>\n",
       "      <td>62547002</td>\n",
       "      <td>225.194</td>\n",
       "      <td>45</td>\n",
       "      <td>2</td>\n",
       "    </tr>\n",
       "    <tr>\n",
       "      <th>196</th>\n",
       "      <td>Eyes Open</td>\n",
       "      <td>Single</td>\n",
       "      <td>1</td>\n",
       "      <td>46065828</td>\n",
       "      <td>244.586</td>\n",
       "      <td>19</td>\n",
       "      <td>13</td>\n",
       "    </tr>\n",
       "    <tr>\n",
       "      <th>197</th>\n",
       "      <td>Highway Don't Care</td>\n",
       "      <td>Single</td>\n",
       "      <td>1</td>\n",
       "      <td>184599299</td>\n",
       "      <td>276.880</td>\n",
       "      <td>22</td>\n",
       "      <td>20</td>\n",
       "    </tr>\n",
       "    <tr>\n",
       "      <th>198</th>\n",
       "      <td>I Don’t Wanna Live Forever</td>\n",
       "      <td>Single</td>\n",
       "      <td>1</td>\n",
       "      <td>1360488896</td>\n",
       "      <td>247.160</td>\n",
       "      <td>-1</td>\n",
       "      <td>-1</td>\n",
       "    </tr>\n",
       "    <tr>\n",
       "      <th>199</th>\n",
       "      <td>Christmas Tree Farm</td>\n",
       "      <td>Single</td>\n",
       "      <td>1</td>\n",
       "      <td>115939019</td>\n",
       "      <td>228.026</td>\n",
       "      <td>59</td>\n",
       "      <td>6</td>\n",
       "    </tr>\n",
       "  </tbody>\n",
       "</table>\n",
       "<p>200 rows × 7 columns</p>\n",
       "</div>"
      ],
      "text/plain": [
       "                          Title         Album  Track Number  Play Count  \\\n",
       "0                    Tim McGraw  Taylor Swift             1    85080608   \n",
       "1               Picture To Burn  Taylor Swift             2   113459216   \n",
       "2        Teardrops On My Guitar  Taylor Swift             3   155880670   \n",
       "3         A Place in this World  Taylor Swift             4    24351942   \n",
       "4                   Cold As You  Taylor Swift             5    25370648   \n",
       "..                          ...           ...           ...         ...   \n",
       "195                 Dear Reader     Midnights            20    62547002   \n",
       "196                   Eyes Open        Single             1    46065828   \n",
       "197          Highway Don't Care        Single             1   184599299   \n",
       "198  I Don’t Wanna Live Forever        Single             1  1360488896   \n",
       "199         Christmas Tree Farm        Single             1   115939019   \n",
       "\n",
       "     Duration in Seconds  Peak Chart Position  Weeks on Chart  \n",
       "0                232.106                   40              20  \n",
       "1                173.066                   28              20  \n",
       "2                203.040                   13              48  \n",
       "3                199.200                   -1              -1  \n",
       "4                239.013                   -1              -1  \n",
       "..                   ...                  ...             ...  \n",
       "195              225.194                   45               2  \n",
       "196              244.586                   19              13  \n",
       "197              276.880                   22              20  \n",
       "198              247.160                   -1              -1  \n",
       "199              228.026                   59               6  \n",
       "\n",
       "[200 rows x 7 columns]"
      ]
     },
     "execution_count": 26,
     "metadata": {},
     "output_type": "execute_result"
    }
   ],
   "source": [
    "songs_final"
   ]
  },
  {
   "cell_type": "code",
   "execution_count": 28,
   "id": "cdbd54d2",
   "metadata": {},
   "outputs": [],
   "source": [
    "songs_final.to_csv('TaylorSwiftSongs.csv')"
   ]
  }
 ],
 "metadata": {
  "kernelspec": {
   "display_name": "Python 3 (ipykernel)",
   "language": "python",
   "name": "python3"
  },
  "language_info": {
   "codemirror_mode": {
    "name": "ipython",
    "version": 3
   },
   "file_extension": ".py",
   "mimetype": "text/x-python",
   "name": "python",
   "nbconvert_exporter": "python",
   "pygments_lexer": "ipython3",
   "version": "3.9.13"
  }
 },
 "nbformat": 4,
 "nbformat_minor": 5
}
