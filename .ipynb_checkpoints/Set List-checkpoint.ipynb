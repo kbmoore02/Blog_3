{
 "cells": [
  {
   "cell_type": "code",
   "execution_count": 1,
   "id": "7af2a7cc",
   "metadata": {},
   "outputs": [],
   "source": [
    "import requests as rq\n",
    "import pandas as pd\n",
    "import re\n",
    "import numpy as np\n",
    "from bs4 import BeautifulSoup as bs"
   ]
  },
  {
   "cell_type": "code",
   "execution_count": 2,
   "id": "df9aab5e",
   "metadata": {},
   "outputs": [],
   "source": [
    "url = 'https://www.setlist.fm/setlist/taylor-swift/2023/state-farm-stadium-glendale-az-3bbb88dc.html'"
   ]
  },
  {
   "cell_type": "code",
   "execution_count": 3,
   "id": "a08934d2",
   "metadata": {},
   "outputs": [],
   "source": [
    "r = rq.get(url)\n",
    "soup = bs(r.text)"
   ]
  },
  {
   "cell_type": "code",
   "execution_count": 37,
   "id": "5d496e99",
   "metadata": {},
   "outputs": [],
   "source": [
    "songs = str(soup.find_all('script', {'type':'text/javascript'})[47]).replace('<script type=\"text/javascript\"><!--/*--><![CDATA[/*><!--*/\\nWicket.Event.add(window, \"domready\", function(event) { YouTubeSearch.setPlaylist([','').replace('], false);;});\\n/*-->]]>*/</script>','')"
   ]
  },
  {
   "cell_type": "code",
   "execution_count": 39,
   "id": "70b04827",
   "metadata": {},
   "outputs": [],
   "source": [
    "songs_list = songs.replace('{\"song\":','').replace(',\"artist\":\"Taylor Swift\"}','').replace('\"','').split(',')"
   ]
  }
 ],
 "metadata": {
  "kernelspec": {
   "display_name": "Python 3 (ipykernel)",
   "language": "python",
   "name": "python3"
  },
  "language_info": {
   "codemirror_mode": {
    "name": "ipython",
    "version": 3
   },
   "file_extension": ".py",
   "mimetype": "text/x-python",
   "name": "python",
   "nbconvert_exporter": "python",
   "pygments_lexer": "ipython3",
   "version": "3.9.13"
  }
 },
 "nbformat": 4,
 "nbformat_minor": 5
}
