{
 "cells": [
  {
   "cell_type": "code",
   "execution_count": 1,
   "id": "7af2a7cc",
   "metadata": {},
   "outputs": [],
   "source": [
    "import requests as rq\n",
    "import pandas as pd\n",
    "import re\n",
    "import numpy as np\n",
    "from bs4 import BeautifulSoup as bs"
   ]
  },
  {
   "cell_type": "code",
   "execution_count": 2,
   "id": "df9aab5e",
   "metadata": {},
   "outputs": [],
   "source": [
    "url = 'https://www.setlist.fm/setlist/taylor-swift/2015/gila-river-arena-glendale-az-33f7f481.html'"
   ]
  },
  {
   "cell_type": "code",
   "execution_count": 3,
   "id": "a08934d2",
   "metadata": {},
   "outputs": [],
   "source": [
    "r = rq.get(url)\n",
    "soup = bs(r.text)"
   ]
  },
  {
   "cell_type": "code",
   "execution_count": 4,
   "id": "5d496e99",
   "metadata": {},
   "outputs": [],
   "source": [
    "songs = str(soup.find_all('script', {'type':'text/javascript'})[14]).replace('<script type=\"text/javascript\"><!--/*--><![CDATA[/*><!--*/\\nWicket.Event.add(window, \"domready\", function(event) { YouTubeSearch.setPlaylist([','').replace('], false);;});\\n/*-->]]>*/</script>','')"
   ]
  },
  {
   "cell_type": "code",
   "execution_count": 5,
   "id": "70b04827",
   "metadata": {},
   "outputs": [],
   "source": [
    "songs_list = songs.replace('{\"song\":','').replace(',\"artist\":\"Taylor Swift\"}','').replace('\"','').split(',')"
   ]
  },
  {
   "cell_type": "code",
   "execution_count": 6,
   "id": "9a95fb44",
   "metadata": {},
   "outputs": [
    {
     "data": {
      "text/plain": [
       "['Welcome to New York',\n",
       " 'New Romantics',\n",
       " 'Blank Space',\n",
       " 'I Knew You Were Trouble',\n",
       " 'I Wish You Would',\n",
       " 'How You Get the Girl',\n",
       " 'I Know Places',\n",
       " 'All You Had to Do Was Stay',\n",
       " 'Ronan',\n",
       " 'Clean',\n",
       " 'Love Story',\n",
       " 'Style',\n",
       " 'Bad Blood',\n",
       " 'We Are Never Ever Getting Back Together',\n",
       " 'Wildest Dreams',\n",
       " 'Out of the Woods',\n",
       " 'Shake It Off']"
      ]
     },
     "execution_count": 6,
     "metadata": {},
     "output_type": "execute_result"
    }
   ],
   "source": [
    "songs_list"
   ]
  }
 ],
 "metadata": {
  "kernelspec": {
   "display_name": "Python 3 (ipykernel)",
   "language": "python",
   "name": "python3"
  },
  "language_info": {
   "codemirror_mode": {
    "name": "ipython",
    "version": 3
   },
   "file_extension": ".py",
   "mimetype": "text/x-python",
   "name": "python",
   "nbconvert_exporter": "python",
   "pygments_lexer": "ipython3",
   "version": "3.9.13"
  }
 },
 "nbformat": 4,
 "nbformat_minor": 5
}
